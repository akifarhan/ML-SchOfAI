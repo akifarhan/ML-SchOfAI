{
  "nbformat": 4,
  "nbformat_minor": 0,
  "metadata": {
    "colab": {
      "name": "multinomial-numpy.ipynb",
      "provenance": [],
      "collapsed_sections": [],
      "include_colab_link": true
    },
    "kernelspec": {
      "name": "python3",
      "display_name": "Python 3"
    }
  },
  "cells": [
    {
      "cell_type": "markdown",
      "metadata": {
        "id": "view-in-github",
        "colab_type": "text"
      },
      "source": [
        "<a href=\"https://colab.research.google.com/github/akifarhan/ML-SchOfAI/blob/master/multinomial_numpy.ipynb\" target=\"_parent\"><img src=\"https://colab.research.google.com/assets/colab-badge.svg\" alt=\"Open In Colab\"/></a>"
      ]
    },
    {
      "cell_type": "code",
      "metadata": {
        "id": "T5fhhx5fHFDc",
        "colab_type": "code",
        "colab": {}
      },
      "source": [
        "import numpy as np"
      ],
      "execution_count": 0,
      "outputs": []
    },
    {
      "cell_type": "code",
      "metadata": {
        "id": "82hczPVoHqkt",
        "colab_type": "code",
        "outputId": "0a857251-f65a-4479-bb69-2e386e646105",
        "colab": {
          "base_uri": "https://localhost:8080/",
          "height": 204
        }
      },
      "source": [
        "# !wget https://raw.githubusercontent.com/huseinzol05/Malaya-Dataset/master/political-landscape/political-landscape.json\n",
        "!wget https://raw.githubusercontent.com/huseinzol05/Malaya-Dataset/master/emotion/sadness-twitter-malaysia.json"
      ],
      "execution_count": 0,
      "outputs": [
        {
          "output_type": "stream",
          "text": [
            "--2019-10-22 22:14:05--  https://raw.githubusercontent.com/huseinzol05/Malaya-Dataset/master/emotion/sadness-twitter-malaysia.json\n",
            "Resolving raw.githubusercontent.com (raw.githubusercontent.com)... 151.101.0.133, 151.101.64.133, 151.101.128.133, ...\n",
            "Connecting to raw.githubusercontent.com (raw.githubusercontent.com)|151.101.0.133|:443... connected.\n",
            "HTTP request sent, awaiting response... 200 OK\n",
            "Length: 8098221 (7.7M) [text/plain]\n",
            "Saving to: ‘sadness-twitter-malaysia.json’\n",
            "\n",
            "\r          sadness-t   0%[                    ]       0  --.-KB/s               \rsadness-twitter-mal 100%[===================>]   7.72M  --.-KB/s    in 0.09s   \n",
            "\n",
            "2019-10-22 22:14:05 (83.9 MB/s) - ‘sadness-twitter-malaysia.json’ saved [8098221/8098221]\n",
            "\n"
          ],
          "name": "stdout"
        }
      ]
    },
    {
      "cell_type": "code",
      "metadata": {
        "id": "ppCw87n9HzMA",
        "colab_type": "code",
        "outputId": "081db765-c701-4012-98fc-ef4272241be5",
        "colab": {
          "base_uri": "https://localhost:8080/",
          "height": 34
        }
      },
      "source": [
        "import json\n",
        "\n",
        "with open('political-landscape.json') as fopen:\n",
        "  data = json.load(fopen)\n",
        "data.keys()"
      ],
      "execution_count": 0,
      "outputs": [
        {
          "output_type": "execute_result",
          "data": {
            "text/plain": [
              "dict_keys(['kerajaan', 'pembangkang'])"
            ]
          },
          "metadata": {
            "tags": []
          },
          "execution_count": 4
        }
      ]
    },
    {
      "cell_type": "code",
      "metadata": {
        "id": "Kh6siKixijim",
        "colab_type": "code",
        "colab": {}
      },
      "source": [
        "with open('sadness-twitter-malaysia.json') as fopen:\n",
        "  apple = json.load(fopen)"
      ],
      "execution_count": 0,
      "outputs": []
    },
    {
      "cell_type": "code",
      "metadata": {
        "id": "ylxh9RAeK1cq",
        "colab_type": "code",
        "colab": {}
      },
      "source": [
        "kerajaan = data['kerajaan']"
      ],
      "execution_count": 0,
      "outputs": []
    },
    {
      "cell_type": "code",
      "metadata": {
        "id": "kD0xrOwrK70s",
        "colab_type": "code",
        "colab": {}
      },
      "source": [
        "pembangkang = data['pembangkang']"
      ],
      "execution_count": 0,
      "outputs": []
    },
    {
      "cell_type": "code",
      "metadata": {
        "id": "KMwIl6m5K_fs",
        "colab_type": "code",
        "colab": {}
      },
      "source": [
        "import random\n",
        "k = 500\n",
        "apple_sample = random.sample(apple, k)\n",
        "pembangkang_sample = random.sample(pembangkang, k)\n",
        "kerajaan_sample = random.sample(kerajaan, k)"
      ],
      "execution_count": 0,
      "outputs": []
    },
    {
      "cell_type": "markdown",
      "metadata": {
        "id": "GjaT3o1_Lws6",
        "colab_type": "text"
      },
      "source": [
        "I want `apple` as class `0`, `pembangkang` class `1`, `kerajaan` class `2`"
      ]
    },
    {
      "cell_type": "code",
      "metadata": {
        "id": "oslZlTEJLfAG",
        "colab_type": "code",
        "outputId": "df077cb0-8165-4f57-8b34-207b7ec70621",
        "colab": {
          "base_uri": "https://localhost:8080/",
          "height": 34
        }
      },
      "source": [
        "Y = [0] * k + [1] * k + [2] * k\n",
        "len(Y)"
      ],
      "execution_count": 0,
      "outputs": [
        {
          "output_type": "execute_result",
          "data": {
            "text/plain": [
              "1500"
            ]
          },
          "metadata": {
            "tags": []
          },
          "execution_count": 11
        }
      ]
    },
    {
      "cell_type": "code",
      "metadata": {
        "id": "cSuh9cypMFn1",
        "colab_type": "code",
        "outputId": "e50a1b23-75ac-4bf8-e9ed-2ef436fc6110",
        "colab": {
          "base_uri": "https://localhost:8080/",
          "height": 34
        }
      },
      "source": [
        "X = apple_sample + pembangkang_sample + kerajaan_sample\n",
        "len(X) == len(Y)"
      ],
      "execution_count": 0,
      "outputs": [
        {
          "output_type": "execute_result",
          "data": {
            "text/plain": [
              "True"
            ]
          },
          "metadata": {
            "tags": []
          },
          "execution_count": 12
        }
      ]
    },
    {
      "cell_type": "markdown",
      "metadata": {
        "id": "OhoZ9_D7MZY9",
        "colab_type": "text"
      },
      "source": [
        "## Basic text cleaning"
      ]
    },
    {
      "cell_type": "code",
      "metadata": {
        "id": "DgTSXtAKMJ4k",
        "colab_type": "code",
        "colab": {}
      },
      "source": [
        "for i in range(len(X)):\n",
        "  X[i] = X[i].lower()"
      ],
      "execution_count": 0,
      "outputs": []
    },
    {
      "cell_type": "markdown",
      "metadata": {
        "id": "0O0FcW2UM3xn",
        "colab_type": "text"
      },
      "source": [
        "## Bag-of-word"
      ]
    },
    {
      "cell_type": "code",
      "metadata": {
        "id": "uBtZa9vBMheZ",
        "colab_type": "code",
        "outputId": "2027a109-bb8c-4961-f29b-586d27effcb3",
        "colab": {
          "base_uri": "https://localhost:8080/",
          "height": 34
        }
      },
      "source": [
        "unique_words = list(set(' '.join(X).split()))\n",
        "len(unique_words)"
      ],
      "execution_count": 0,
      "outputs": [
        {
          "output_type": "execute_result",
          "data": {
            "text/plain": [
              "7732"
            ]
          },
          "metadata": {
            "tags": []
          },
          "execution_count": 14
        }
      ]
    },
    {
      "cell_type": "code",
      "metadata": {
        "id": "stKYHkvcNAzU",
        "colab_type": "code",
        "outputId": "35ecfa54-56f6-43cb-94ba-a79ee6e52375",
        "colab": {
          "base_uri": "https://localhost:8080/",
          "height": 34
        }
      },
      "source": [
        "bow = np.zeros((len(X), len(unique_words)))\n",
        "bow.shape"
      ],
      "execution_count": 0,
      "outputs": [
        {
          "output_type": "execute_result",
          "data": {
            "text/plain": [
              "(1500, 7732)"
            ]
          },
          "metadata": {
            "tags": []
          },
          "execution_count": 15
        }
      ]
    },
    {
      "cell_type": "code",
      "metadata": {
        "id": "YiQGGmhsPLTS",
        "colab_type": "code",
        "colab": {}
      },
      "source": [
        "for no, x in enumerate(X):\n",
        "  for w in x.split():\n",
        "    bow[no, unique_words.index(w)] += 1"
      ],
      "execution_count": 0,
      "outputs": []
    },
    {
      "cell_type": "code",
      "metadata": {
        "id": "pw1cqKGDPoNq",
        "colab_type": "code",
        "outputId": "6abfe4a5-98bb-4a16-f648-f4d8e4a4c304",
        "colab": {
          "base_uri": "https://localhost:8080/",
          "height": 54
        }
      },
      "source": [
        "string = X[0]\n",
        "string"
      ],
      "execution_count": 0,
      "outputs": [
        {
          "output_type": "execute_result",
          "data": {
            "text/plain": [
              "'gak terasa air mata menetes,  hati tergetar. semoga allah swt,  memberikan amanah untuk kalian berdua menjadi pemim https://t.co/fdubw5ijak'"
            ]
          },
          "metadata": {
            "tags": []
          },
          "execution_count": 17
        }
      ]
    },
    {
      "cell_type": "code",
      "metadata": {
        "id": "VjF4A8UOPpc9",
        "colab_type": "code",
        "outputId": "722ac691-082b-4ba2-97f8-69298aec7002",
        "colab": {
          "base_uri": "https://localhost:8080/",
          "height": 323
        }
      },
      "source": [
        "for w in string.split():\n",
        "  print(w, unique_words.index(w))"
      ],
      "execution_count": 0,
      "outputs": [
        {
          "output_type": "stream",
          "text": [
            "gak 2537\n",
            "terasa 6437\n",
            "air 1445\n",
            "mata 5912\n",
            "menetes, 6548\n",
            "hati 7641\n",
            "tergetar. 4045\n",
            "semoga 678\n",
            "allah 6282\n",
            "swt, 7396\n",
            "memberikan 4052\n",
            "amanah 1006\n",
            "untuk 6387\n",
            "kalian 5875\n",
            "berdua 6626\n",
            "menjadi 1704\n",
            "pemim 1955\n",
            "https://t.co/fdubw5ijak 2309\n"
          ],
          "name": "stdout"
        }
      ]
    },
    {
      "cell_type": "code",
      "metadata": {
        "id": "-TlfikvoP6AQ",
        "colab_type": "code",
        "outputId": "019870c1-4f38-45b1-8e15-58b0a515e9de",
        "colab": {
          "base_uri": "https://localhost:8080/",
          "height": 51
        }
      },
      "source": [
        "np.where(bow[0] > 0)"
      ],
      "execution_count": 0,
      "outputs": [
        {
          "output_type": "execute_result",
          "data": {
            "text/plain": [
              "(array([ 678, 1006, 1445, 1704, 1955, 2309, 2537, 4045, 4052, 5875, 5912,\n",
              "        6282, 6387, 6437, 6548, 6626, 7396, 7641]),)"
            ]
          },
          "metadata": {
            "tags": []
          },
          "execution_count": 19
        }
      ]
    },
    {
      "cell_type": "code",
      "metadata": {
        "id": "5xjfWlA8Qv0J",
        "colab_type": "code",
        "outputId": "2aebfff8-fa78-430d-ae07-0aecf82c21d7",
        "colab": {
          "base_uri": "https://localhost:8080/",
          "height": 1000
        }
      },
      "source": [
        "unique_words[:100]"
      ],
      "execution_count": 0,
      "outputs": [
        {
          "output_type": "execute_result",
          "data": {
            "text/plain": [
              "['think',\n",
              " 'mon',\n",
              " 'jahanam',\n",
              " 'btul..did',\n",
              " '@preity_pykah',\n",
              " 'prabowo',\n",
              " 'sketch',\n",
              " 'pencegahan',\n",
              " 'struktur',\n",
              " 'mempersoalkan',\n",
              " 'https://t.co/ozwgpka9lt',\n",
              " '@aidelmustaza',\n",
              " 'fasa',\n",
              " 'toilet',\n",
              " 'cepat!',\n",
              " 'komen',\n",
              " 'pesaing',\n",
              " 'mah',\n",
              " 'ziarah',\n",
              " 'terlebih',\n",
              " 'cepat',\n",
              " 'ph.',\n",
              " 'sakit...what',\n",
              " 'perdana',\n",
              " 'rb.',\n",
              " 'sem',\n",
              " 'tonton',\n",
              " 'ke..',\n",
              " 'sembang',\n",
              " 'gelak',\n",
              " 'sado',\n",
              " 'petai',\n",
              " 'ibukotanya',\n",
              " 'tangani',\n",
              " 'elakkan',\n",
              " 'dipenjarakan',\n",
              " 'rabun',\n",
              " 'https://t.co/epnb1jvsvw',\n",
              " 'debate',\n",
              " 'pembangkang,',\n",
              " 'jee',\n",
              " 'knapa',\n",
              " 'hari2',\n",
              " 'family',\n",
              " 'always',\n",
              " 'yb2',\n",
              " 'maszlee',\n",
              " 'mencapai',\n",
              " 'tu?',\n",
              " 'bekas',\n",
              " 'ini',\n",
              " 'bertindih',\n",
              " 'https://t.co/pkzv4rq4sn',\n",
              " 'sehat',\n",
              " '119',\n",
              " 'gobindsinghdeo',\n",
              " 'menyokong',\n",
              " '\"saifuddinabd',\n",
              " 'lee',\n",
              " 'plihatkan',\n",
              " 'tubuh,',\n",
              " 'anakanak',\n",
              " 'https://t.co/dqdp8rcch5',\n",
              " '@umnoonline',\n",
              " 'keadilan,',\n",
              " 'beri',\n",
              " 'bab2',\n",
              " 'inspirasi',\n",
              " 'yayasan',\n",
              " 'zubir',\n",
              " 'gomen',\n",
              " 'update',\n",
              " 'jajan',\n",
              " 'tweet.',\n",
              " '\"...turun',\n",
              " 'senang.',\n",
              " 'korban',\n",
              " 'akui',\n",
              " 'nanti-nantikan.',\n",
              " 'imut,',\n",
              " 'kare',\n",
              " 'perjuangan',\n",
              " 'mohan',\n",
              " 'australia',\n",
              " 'gunung',\n",
              " \"hehe-'\",\n",
              " 'kadar',\n",
              " 'igt',\n",
              " 'ajam',\n",
              " 'penyampaian',\n",
              " 'hri',\n",
              " 'dik,',\n",
              " 'gunting',\n",
              " 'ciri2',\n",
              " 'tetangga',\n",
              " 'masi',\n",
              " 'contoh',\n",
              " 'ran',\n",
              " 'dihadapi',\n",
              " 'kerajaan..']"
            ]
          },
          "metadata": {
            "tags": []
          },
          "execution_count": 20
        }
      ]
    },
    {
      "cell_type": "code",
      "metadata": {
        "id": "Pbtn2SjyQ4Ow",
        "colab_type": "code",
        "outputId": "52c8bb72-5206-4e2a-981d-d382c2926ce5",
        "colab": {
          "base_uri": "https://localhost:8080/",
          "height": 34
        }
      },
      "source": [
        "example_x = ['saya suka makan ayam ayam', 'suka tidur', 'suka menganjing']\n",
        "example_unique = list(set(' '.join(example_x).split()))\n",
        "example_unique"
      ],
      "execution_count": 0,
      "outputs": [
        {
          "output_type": "execute_result",
          "data": {
            "text/plain": [
              "['ayam', 'suka', 'saya', 'tidur', 'makan', 'menganjing']"
            ]
          },
          "metadata": {
            "tags": []
          },
          "execution_count": 21
        }
      ]
    },
    {
      "cell_type": "code",
      "metadata": {
        "id": "RjTb_RKMRRv5",
        "colab_type": "code",
        "outputId": "5c9ef44e-8b2d-407a-f793-e3fd0b9fe327",
        "colab": {
          "base_uri": "https://localhost:8080/",
          "height": 68
        }
      },
      "source": [
        "example_bow = np.zeros((len(example_x), len(example_unique)))\n",
        "example_bow"
      ],
      "execution_count": 0,
      "outputs": [
        {
          "output_type": "execute_result",
          "data": {
            "text/plain": [
              "array([[0., 0., 0., 0., 0., 0.],\n",
              "       [0., 0., 0., 0., 0., 0.],\n",
              "       [0., 0., 0., 0., 0., 0.]])"
            ]
          },
          "metadata": {
            "tags": []
          },
          "execution_count": 22
        }
      ]
    },
    {
      "cell_type": "code",
      "metadata": {
        "id": "Kylw2qztRbo7",
        "colab_type": "code",
        "outputId": "270fa467-3427-409e-f639-ca3df27009fe",
        "colab": {
          "base_uri": "https://localhost:8080/",
          "height": 68
        }
      },
      "source": [
        "for no, x in enumerate(example_x):\n",
        "  for w in x.split():\n",
        "    example_bow[no, example_unique.index(w)] += 1\n",
        "    \n",
        "example_bow"
      ],
      "execution_count": 0,
      "outputs": [
        {
          "output_type": "execute_result",
          "data": {
            "text/plain": [
              "array([[2., 1., 1., 0., 1., 0.],\n",
              "       [0., 1., 0., 1., 0., 0.],\n",
              "       [0., 1., 0., 0., 0., 1.]])"
            ]
          },
          "metadata": {
            "tags": []
          },
          "execution_count": 23
        }
      ]
    },
    {
      "cell_type": "code",
      "metadata": {
        "id": "DVdPixz7Rjvs",
        "colab_type": "code",
        "outputId": "f5e3454a-0aa0-49d5-ad8c-f613ac67e594",
        "colab": {
          "base_uri": "https://localhost:8080/",
          "height": 34
        }
      },
      "source": [
        "df = np.zeros((len(example_unique)))\n",
        "df"
      ],
      "execution_count": 0,
      "outputs": [
        {
          "output_type": "execute_result",
          "data": {
            "text/plain": [
              "array([0., 0., 0., 0., 0., 0.])"
            ]
          },
          "metadata": {
            "tags": []
          },
          "execution_count": 24
        }
      ]
    },
    {
      "cell_type": "code",
      "metadata": {
        "id": "SnocxaBvSS9e",
        "colab_type": "code",
        "outputId": "0558d4a9-8c3f-45ba-ff59-2c98c0bf5466",
        "colab": {
          "base_uri": "https://localhost:8080/",
          "height": 34
        }
      },
      "source": [
        "for no, w in enumerate(example_unique):\n",
        "  for string in example_x:\n",
        "    if w in string:\n",
        "      df[no] += 1\n",
        "      \n",
        "df"
      ],
      "execution_count": 0,
      "outputs": [
        {
          "output_type": "execute_result",
          "data": {
            "text/plain": [
              "array([1., 3., 1., 1., 1., 1.])"
            ]
          },
          "metadata": {
            "tags": []
          },
          "execution_count": 25
        }
      ]
    },
    {
      "cell_type": "code",
      "metadata": {
        "id": "PnT3GdNrSvhU",
        "colab_type": "code",
        "colab": {}
      },
      "source": [
        "df = len(example_x) / df # N / df"
      ],
      "execution_count": 0,
      "outputs": []
    },
    {
      "cell_type": "code",
      "metadata": {
        "id": "FRNqmusKTKLR",
        "colab_type": "code",
        "outputId": "8f8acd7a-fe44-4d0f-a0c9-911f60b8ac4f",
        "colab": {
          "base_uri": "https://localhost:8080/",
          "height": 51
        }
      },
      "source": [
        "log_df = np.log(df)\n",
        "log_df"
      ],
      "execution_count": 0,
      "outputs": [
        {
          "output_type": "execute_result",
          "data": {
            "text/plain": [
              "array([1.09861229, 0.        , 1.09861229, 1.09861229, 1.09861229,\n",
              "       1.09861229])"
            ]
          },
          "metadata": {
            "tags": []
          },
          "execution_count": 27
        }
      ]
    },
    {
      "cell_type": "code",
      "metadata": {
        "id": "c70T8bmNTP8B",
        "colab_type": "code",
        "outputId": "951eeddb-0283-4b1d-814b-4f18a7d956b3",
        "colab": {
          "base_uri": "https://localhost:8080/",
          "height": 119
        }
      },
      "source": [
        "example_tfidf = example_bow * log_df\n",
        "example_tfidf"
      ],
      "execution_count": 0,
      "outputs": [
        {
          "output_type": "execute_result",
          "data": {
            "text/plain": [
              "array([[2.19722458, 0.        , 1.09861229, 0.        , 1.09861229,\n",
              "        0.        ],\n",
              "       [0.        , 0.        , 0.        , 1.09861229, 0.        ,\n",
              "        0.        ],\n",
              "       [0.        , 0.        , 0.        , 0.        , 0.        ,\n",
              "        1.09861229]])"
            ]
          },
          "metadata": {
            "tags": []
          },
          "execution_count": 28
        }
      ]
    },
    {
      "cell_type": "markdown",
      "metadata": {
        "id": "s5UTjqwiU67K",
        "colab_type": "text"
      },
      "source": [
        "## Calculate likelihood"
      ]
    },
    {
      "cell_type": "code",
      "metadata": {
        "id": "nWn8fs9MTdnC",
        "colab_type": "code",
        "outputId": "198e52ca-12e8-4daa-da92-72439dbd4341",
        "colab": {
          "base_uri": "https://localhost:8080/",
          "height": 34
        }
      },
      "source": [
        "classes, counts = np.unique(Y, return_counts = True)\n",
        "prob_class = {}\n",
        "for i in range(len(classes)):\n",
        "  prob_class[classes[i]] = counts[i] / len(Y)\n",
        "  \n",
        "prob_class"
      ],
      "execution_count": 0,
      "outputs": [
        {
          "output_type": "execute_result",
          "data": {
            "text/plain": [
              "{0: 0.3333333333333333, 1: 0.3333333333333333, 2: 0.3333333333333333}"
            ]
          },
          "metadata": {
            "tags": []
          },
          "execution_count": 29
        }
      ]
    },
    {
      "cell_type": "code",
      "metadata": {
        "id": "55g22Nd5WUZE",
        "colab_type": "code",
        "colab": {}
      },
      "source": [
        "np_X = np.array(bow)\n",
        "np_Y = np.array(Y)"
      ],
      "execution_count": 0,
      "outputs": []
    },
    {
      "cell_type": "code",
      "metadata": {
        "id": "kVqO3teyVqtX",
        "colab_type": "code",
        "outputId": "226ee995-aa50-4add-effe-f4cad78e2d93",
        "colab": {
          "base_uri": "https://localhost:8080/",
          "height": 34
        }
      },
      "source": [
        "sum_class = {}\n",
        "for c in classes:\n",
        "  sum_class[c] = np_X[np_Y == c].sum()\n",
        "sum_class"
      ],
      "execution_count": 0,
      "outputs": [
        {
          "output_type": "execute_result",
          "data": {
            "text/plain": [
              "{0: 7383.0, 1: 6432.0, 2: 5686.0}"
            ]
          },
          "metadata": {
            "tags": []
          },
          "execution_count": 31
        }
      ]
    },
    {
      "cell_type": "code",
      "metadata": {
        "id": "q22Ga7tHWcZw",
        "colab_type": "code",
        "outputId": "a67966d3-376e-44cd-aec4-252748cbcf54",
        "colab": {
          "base_uri": "https://localhost:8080/",
          "height": 34
        }
      },
      "source": [
        "likelihood = np.zeros((len(classes), bow.shape[1]))\n",
        "likelihood.shape"
      ],
      "execution_count": 0,
      "outputs": [
        {
          "output_type": "execute_result",
          "data": {
            "text/plain": [
              "(3, 7732)"
            ]
          },
          "metadata": {
            "tags": []
          },
          "execution_count": 32
        }
      ]
    },
    {
      "cell_type": "code",
      "metadata": {
        "id": "FOED89CDi6Od",
        "colab_type": "code",
        "colab": {}
      },
      "source": [
        ""
      ],
      "execution_count": 0,
      "outputs": []
    },
    {
      "cell_type": "code",
      "metadata": {
        "id": "bS82GGyQYJf8",
        "colab_type": "code",
        "outputId": "66d4755d-d35e-40be-900c-8bd80c533f25",
        "colab": {
          "base_uri": "https://localhost:8080/",
          "height": 119
        }
      },
      "source": [
        "alpha = 1\n",
        "\n",
        "for c_ in classes:\n",
        "  c = np_X[np_Y == c_].sum(axis = 0)\n",
        "  likelihood[c_] = (alpha + c) / (sum_class[c_] + alpha * bow.shape[1])\n",
        "  \n",
        "likelihood"
      ],
      "execution_count": 0,
      "outputs": [
        {
          "output_type": "execute_result",
          "data": {
            "text/plain": [
              "array([[1.32318889e-04, 6.61594443e-05, 6.61594443e-05, ...,\n",
              "        1.32318889e-04, 6.61594443e-05, 6.61594443e-05],\n",
              "       [7.06015250e-05, 1.41203050e-04, 7.06015250e-05, ...,\n",
              "        7.06015250e-05, 1.41203050e-04, 7.06015250e-05],\n",
              "       [7.45267551e-05, 7.45267551e-05, 1.49053510e-04, ...,\n",
              "        7.45267551e-05, 7.45267551e-05, 1.49053510e-04]])"
            ]
          },
          "metadata": {
            "tags": []
          },
          "execution_count": 33
        }
      ]
    },
    {
      "cell_type": "code",
      "metadata": {
        "id": "Jtp0nwcWYism",
        "colab_type": "code",
        "outputId": "efcb8cf4-79f6-4a4e-f659-93e8512b23bf",
        "colab": {
          "base_uri": "https://localhost:8080/",
          "height": 34
        }
      },
      "source": [
        "bow.shape, likelihood.shape"
      ],
      "execution_count": 0,
      "outputs": [
        {
          "output_type": "execute_result",
          "data": {
            "text/plain": [
              "((1500, 7386), (3, 7386))"
            ]
          },
          "metadata": {
            "tags": []
          },
          "execution_count": 80
        }
      ]
    },
    {
      "cell_type": "code",
      "metadata": {
        "id": "GQXdkgmSY9mM",
        "colab_type": "code",
        "outputId": "d0251aad-f237-4e05-cbca-e099668c9c9f",
        "colab": {
          "base_uri": "https://localhost:8080/",
          "height": 118
        }
      },
      "source": [
        "numerator = np.copy(likelihood)\n",
        "for c in classes:\n",
        "  numerator[c] = numerator[c] * prob_class[c] # p(x|c) * p(c)\n",
        "numerator"
      ],
      "execution_count": 0,
      "outputs": [
        {
          "output_type": "execute_result",
          "data": {
            "text/plain": [
              "array([[2.53659032e-05, 2.53659032e-05, 5.07318063e-05, ...,\n",
              "        2.53659032e-05, 2.53659032e-05, 2.53659032e-05],\n",
              "       [2.47224900e-05, 2.47224900e-05, 2.47224900e-05, ...,\n",
              "        4.94449801e-05, 2.47224900e-05, 2.47224900e-05],\n",
              "       [4.78102888e-05, 4.78102888e-05, 2.39051444e-05, ...,\n",
              "        1.19525722e-04, 4.78102888e-05, 4.78102888e-05]])"
            ]
          },
          "metadata": {
            "tags": []
          },
          "execution_count": 81
        }
      ]
    },
    {
      "cell_type": "code",
      "metadata": {
        "id": "SZW4m6jOatUS",
        "colab_type": "code",
        "outputId": "0a064477-c36b-4fe1-a02c-a4fc93c4c433",
        "colab": {
          "base_uri": "https://localhost:8080/",
          "height": 34
        }
      },
      "source": [
        "forward = bow.dot(numerator.T)\n",
        "x_predict = forward / forward.sum(axis=1, keepdims=True)\n",
        "x_predict.shape"
      ],
      "execution_count": 0,
      "outputs": [
        {
          "output_type": "execute_result",
          "data": {
            "text/plain": [
              "(1500, 3)"
            ]
          },
          "metadata": {
            "tags": []
          },
          "execution_count": 85
        }
      ]
    },
    {
      "cell_type": "code",
      "metadata": {
        "id": "8TLkobK1bMnP",
        "colab_type": "code",
        "outputId": "c26dde0a-0f06-454e-ed42-517d4570c4cb",
        "colab": {
          "base_uri": "https://localhost:8080/",
          "height": 34
        }
      },
      "source": [
        "(np.argmax(x_predict, axis = 1) == np_Y).mean()"
      ],
      "execution_count": 0,
      "outputs": [
        {
          "output_type": "execute_result",
          "data": {
            "text/plain": [
              "0.722"
            ]
          },
          "metadata": {
            "tags": []
          },
          "execution_count": 89
        }
      ]
    },
    {
      "cell_type": "code",
      "metadata": {
        "id": "Ff5kAU5ucEvW",
        "colab_type": "code",
        "outputId": "85f31bad-9c32-4e5b-ac83-d3a958e09540",
        "colab": {
          "base_uri": "https://localhost:8080/",
          "height": 34
        }
      },
      "source": [
        "x_predict[0]"
      ],
      "execution_count": 0,
      "outputs": [
        {
          "output_type": "execute_result",
          "data": {
            "text/plain": [
              "array([0.74545159, 0.14850722, 0.10604119])"
            ]
          },
          "metadata": {
            "tags": []
          },
          "execution_count": 90
        }
      ]
    },
    {
      "cell_type": "code",
      "metadata": {
        "id": "u3Bw69pFcQ2X",
        "colab_type": "code",
        "outputId": "cf69acb7-a517-4e66-c779-f0e01d49ae7d",
        "colab": {
          "base_uri": "https://localhost:8080/",
          "height": 34
        }
      },
      "source": [
        "np.argmax(x_predict[0])"
      ],
      "execution_count": 0,
      "outputs": [
        {
          "output_type": "execute_result",
          "data": {
            "text/plain": [
              "0"
            ]
          },
          "metadata": {
            "tags": []
          },
          "execution_count": 91
        }
      ]
    },
    {
      "cell_type": "code",
      "metadata": {
        "id": "3qtHXQLscSYs",
        "colab_type": "code",
        "outputId": "9a90f898-1c35-4f90-d8a0-2a64c20a77af",
        "colab": {
          "base_uri": "https://localhost:8080/",
          "height": 34
        }
      },
      "source": [
        "new_string = ['saya suka government']\n",
        "new_bow = np.zeros((len(new_string), len(unique_words)))\n",
        "\n",
        "for no, x in enumerate(new_string):\n",
        "  for w in x.split():\n",
        "    if w in unique_words:\n",
        "      new_bow[no, unique_words.index(w)] += 1\n",
        "    \n",
        "new_bow.sum()"
      ],
      "execution_count": 0,
      "outputs": [
        {
          "output_type": "execute_result",
          "data": {
            "text/plain": [
              "3.0"
            ]
          },
          "metadata": {
            "tags": []
          },
          "execution_count": 107
        }
      ]
    },
    {
      "cell_type": "code",
      "metadata": {
        "id": "-2kHjEoQdlGC",
        "colab_type": "code",
        "outputId": "3cf72dc7-7faa-469c-da50-ad66abb25b2d",
        "colab": {
          "base_uri": "https://localhost:8080/",
          "height": 34
        }
      },
      "source": [
        "new_bow.shape"
      ],
      "execution_count": 0,
      "outputs": [
        {
          "output_type": "execute_result",
          "data": {
            "text/plain": [
              "(2, 7386)"
            ]
          },
          "metadata": {
            "tags": []
          },
          "execution_count": 105
        }
      ]
    },
    {
      "cell_type": "code",
      "metadata": {
        "id": "N1J_jUwEdpbT",
        "colab_type": "code",
        "outputId": "8ef51b9f-aff1-46fc-c9c2-845ff2dde791",
        "colab": {
          "base_uri": "https://localhost:8080/",
          "height": 50
        }
      },
      "source": [
        "new_feedforward = new_bow.dot(numerator.T)\n",
        "new_feedforward / new_feedforward.sum(axis=1, keepdims=True)"
      ],
      "execution_count": 0,
      "outputs": [
        {
          "output_type": "execute_result",
          "data": {
            "text/plain": [
              "array([[0.05117132, 0.49873344, 0.45009524],\n",
              "       [0.03653975, 0.49858075, 0.4648795 ]])"
            ]
          },
          "metadata": {
            "tags": []
          },
          "execution_count": 106
        }
      ]
    },
    {
      "cell_type": "code",
      "metadata": {
        "id": "ut6_uLuidt2p",
        "colab_type": "code",
        "colab": {}
      },
      "source": [
        ""
      ],
      "execution_count": 0,
      "outputs": []
    }
  ]
}